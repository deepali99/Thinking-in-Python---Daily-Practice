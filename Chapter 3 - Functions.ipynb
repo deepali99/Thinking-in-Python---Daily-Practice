{
 "cells": [
  {
   "cell_type": "markdown",
   "metadata": {},
   "source": [
    "What is a Function?<br>\n",
    "    A function is a named sequence of statements that performs a particular task<br>\n",
    "    \n",
    "Why is a  Function needed?<br>\n",
    "Creating a new function aids in giving a name to a group of statements\n"
   ]
  },
  {
   "cell_type": "markdown",
   "metadata": {},
   "source": [
    "Type Conversion Functions in Python<br>\n",
    "Python provides build in functions which converts values from one type to the other<br>\n",
    "Example : An int function takes any value and converts into an integer or throw an error, if unable to convert"
   ]
  },
  {
   "cell_type": "code",
   "execution_count": 1,
   "metadata": {},
   "outputs": [
    {
     "name": "stdout",
     "output_type": "stream",
     "text": [
      "32\n"
     ]
    }
   ],
   "source": [
    "a = 32.998\n",
    "a = int(32.998)\n",
    "print(a)"
   ]
  },
  {
   "cell_type": "markdown",
   "metadata": {},
   "source": [
    "Here the int function converted floating point value to an integer.<br> The point to note here is that it does not round off the floating point value it simply chopps off the fractional part<br>\n",
    "Function can make a code small er by eliminating repitive code<br>\n",
    "Function allows you to debug one part of the code at a time and later assemble it"
   ]
  },
  {
   "cell_type": "code",
   "execution_count": 3,
   "metadata": {},
   "outputs": [
    {
     "data": {
      "text/plain": [
       "'111'"
      ]
     },
     "execution_count": 3,
     "metadata": {},
     "output_type": "execute_result"
    }
   ],
   "source": [
    "str(111) # integer value gets converted to string "
   ]
  },
  {
   "cell_type": "markdown",
   "metadata": {},
   "source": [
    "Adding your own functions: Apart from the build in functions in python one can also add new functions "
   ]
  },
  {
   "cell_type": "code",
   "execution_count": 3,
   "metadata": {},
   "outputs": [
    {
     "name": "stdout",
     "output_type": "stream",
     "text": [
      "This is a play function\n"
     ]
    }
   ],
   "source": [
    "def play(): # here play is a function\n",
    "    print(\"This is a play function\")\n",
    "    \n",
    "play() # calling a function "
   ]
  }
 ],
 "metadata": {
  "kernelspec": {
   "display_name": "Python 3",
   "language": "python",
   "name": "python3"
  },
  "language_info": {
   "codemirror_mode": {
    "name": "ipython",
    "version": 3
   },
   "file_extension": ".py",
   "mimetype": "text/x-python",
   "name": "python",
   "nbconvert_exporter": "python",
   "pygments_lexer": "ipython3",
   "version": "3.6.4"
  }
 },
 "nbformat": 4,
 "nbformat_minor": 2
}
